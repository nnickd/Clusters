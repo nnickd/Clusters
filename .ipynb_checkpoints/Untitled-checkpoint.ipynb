{
 "cells": [
  {
   "cell_type": "code",
   "execution_count": 69,
   "metadata": {
    "collapsed": false
   },
   "outputs": [],
   "source": [
    "import numpy as np\n",
    "import colorsys\n",
    "\n",
    "class tree:\n",
    "    \n",
    "    def __init__(self, amount):\n",
    "        self.amount = amount\n",
    "        self.colors = np.zeros((amount, 3))\n",
    "        self.pos = np.zeros((amount, 2))\n",
    "        self.vel = np.zeros((amount, 2))\n",
    "        self.acc = np.zeros((amount, 2))\n",
    "        self.ids = np.arange(amount)\n",
    "        self.bonds = []\n",
    "        \n",
    "    @property\n",
    "    def vertices(self):\n",
    "        return self.pos.ravel()\n",
    "    \n",
    "    @property\n",
    "    def colors(self):\n",
    "        return self.colors.ravel()\n",
    "        \n",
    "    def add_bond(self, a, b):\n",
    "        self.bonds.append((a, b))\n",
    "        \n",
    "    def remove_bond(self, a, b):\n",
    "        self.bonds.remove((a, b))    \n",
    "\n",
    "    def add_point(self, pos, vel, acc, hue):\n",
    "        self.pos = np.append(self.pos, pos)\n",
    "        self.vel = np.append(self.vel, vel)\n",
    "        self.acc = np.append(self.acc, acc)\n",
    "        self.add_color(140)\n",
    "        self.amount += 1\n",
    "        self.ids = np.arange(self.amount)\n",
    "        \n",
    "        \n",
    "    def remove_point(self, index):\n",
    "        del self.pos[index]\n",
    "        del self.vel[index]\n",
    "        del self.acc[index]\n",
    "        self.remove_color(index)\n",
    "        self.amount -= 1\n",
    "        self.ids = np.arange(self.amount)\n",
    "        \n",
    "    def add_color(self, hue):\n",
    "        color = np.array(colorsys.hsv_to_rgb(h / 360, 1, 1)) * 255\n",
    "        self.colors = np.append(self.colors, color)\n",
    "        \n",
    "    def remove_color(self, index):\n",
    "        del colors[index]\n",
    "        \n",
    "    def tick(self):\n",
    "        self.proximity_bond(100)\n",
    "        self.cluster_seek()\n",
    "        self.lerp()\n",
    "        \n",
    "    def lerp(self):\n",
    "        self.vel += self.acc\n",
    "        self.pos += self.vel\n",
    "        sef.acc *= 0\n",
    "        \n",
    "    def force(self, index, force):\n",
    "        self.acc[index] += force\n",
    "        \n",
    "    def seek(self, index, target, limit):\n",
    "        desired = target - self.pos[index]\n",
    "        desired = vector.normalize(desired) * limit\n",
    "        force = desired - self.vel[index]\n",
    "        if np.linalg.norm(force) > limt:\n",
    "            force = np.linalg.norm(force) * limit\n",
    "        self.force(index, force)\n",
    "        \n",
    "    def cluster_seek(self):\n",
    "        for bond in bonds:\n",
    "            self.seek(bond[0], self.pos[bond[1]], limit)\n",
    "            self.seek(bond[1], self.pos[bond[0]], limit)\n",
    "            \n",
    "    def proximity_bond(self, distance):\n",
    "        for i in self.ids:\n",
    "            for j in self.ids + i:\n",
    "                radius = np.linalg.norm(self.pos[i] - self.pos[j])\n",
    "                if radius < distance:\n",
    "                    self.add_bond(i, j)\n",
    "                if radius > distance:\n",
    "                    self.remove_bond(i, j)\n",
    "                \n",
    "        "
   ]
  },
  {
   "cell_type": "code",
   "execution_count": 59,
   "metadata": {
    "collapsed": false
   },
   "outputs": [],
   "source": [
    "t = tree(10)"
   ]
  },
  {
   "cell_type": "code",
   "execution_count": 60,
   "metadata": {
    "collapsed": false
   },
   "outputs": [
    {
     "data": {
      "text/plain": [
       "array([0, 1, 2, 3, 4, 5, 6, 7, 8, 9])"
      ]
     },
     "execution_count": 60,
     "metadata": {},
     "output_type": "execute_result"
    }
   ],
   "source": [
    "t.ids"
   ]
  },
  {
   "cell_type": "code",
   "execution_count": 61,
   "metadata": {
    "collapsed": true
   },
   "outputs": [],
   "source": [
    "t.add_bond(2, 4)"
   ]
  },
  {
   "cell_type": "code",
   "execution_count": 62,
   "metadata": {
    "collapsed": false
   },
   "outputs": [
    {
     "data": {
      "text/plain": [
       "[(2, 4)]"
      ]
     },
     "execution_count": 62,
     "metadata": {},
     "output_type": "execute_result"
    }
   ],
   "source": [
    "t.bonds"
   ]
  },
  {
   "cell_type": "code",
   "execution_count": 63,
   "metadata": {
    "collapsed": false
   },
   "outputs": [],
   "source": [
    "t.remove_bond(2, 4)"
   ]
  },
  {
   "cell_type": "code",
   "execution_count": 64,
   "metadata": {
    "collapsed": false
   },
   "outputs": [
    {
     "data": {
      "text/plain": [
       "[]"
      ]
     },
     "execution_count": 64,
     "metadata": {},
     "output_type": "execute_result"
    }
   ],
   "source": [
    "t.bonds"
   ]
  }
 ],
 "metadata": {
  "kernelspec": {
   "display_name": "Python 3",
   "language": "python",
   "name": "python3"
  },
  "language_info": {
   "codemirror_mode": {
    "name": "ipython",
    "version": 3
   },
   "file_extension": ".py",
   "mimetype": "text/x-python",
   "name": "python",
   "nbconvert_exporter": "python",
   "pygments_lexer": "ipython3",
   "version": "3.5.2"
  }
 },
 "nbformat": 4,
 "nbformat_minor": 0
}
